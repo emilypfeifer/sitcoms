{
 "cells": [
  {
   "cell_type": "markdown",
   "metadata": {},
   "source": [
    "# Sitcoms 4: Deep Learning"
   ]
  },
  {
   "cell_type": "markdown",
   "metadata": {},
   "source": [
    "Now it's time for deep learning! Well, almost. We still have a bit of pre-processing to do."
   ]
  },
  {
   "cell_type": "markdown",
   "metadata": {},
   "source": [
    "This is the fourth of four notebooks completed on Sitcom Pilot Script Data. In this notebook, I will model the sitcom pilot data using deep learning techniques specific to Natural Language Processing. For those of you just joining us, this is the data that we obtained and cleaned in [Notebook 1 - Obtain/Clean](1_sitcoms_clean.ipynb), explored in [Notebook 2 - EDA](2_sitcoms_EDA.ipynb) and ran classifiers on in [Notebook 3 - Classification](3_sitcoms_classification.ipynb). "
   ]
  },
  {
   "cell_type": "markdown",
   "metadata": {},
   "source": [
    "# Table of Contents\n",
    "\n",
    "\n",
    "  * 1. [Import Libraries](#import)\n",
    "      * 1.1 [Open and Read Data](#open)\n",
    "  * 2. [Deep Learning with Word Embeddings](#deep)  \n",
    "      * 2.1. [Preprocessing for Keras](#prep)  \n",
    "      * 2.2. [Build Our Neural Network](#build)  \n",
    "      * 2.3. [Compile and Fit Data](#stop)  \n",
    "      * 2.4  [Model Evaluation](#eval1)  \n",
    "  * 3. [K-Folds Cross Evaluation](#cross)  \n",
    "      * 3.1. [Define Function for Cross Eval](#define)  \n",
    "      * 3.2. [Re-Evaluation](#reeval)  \n",
    "      * 3.3. [Classifiers](#class)   \n",
    "  * 4. [Word Embeddings with GloVe](#glove)  \n",
    "      * 4.1. [Create Total Vocabulary](#vocab)  \n",
    "      * 4.2. [Create Embedding Matrix](#matrix) \n",
    "      * 4.1. [Building Model 2](#build2)  \n",
    "      * 4.2. [Performance of Model 2](#performance2)\n",
    "  * 5. [Conclusion](#conclusion)  \n",
    "      * 5.1. [Future Work](#future)  "
   ]
  },
  {
   "cell_type": "markdown",
   "metadata": {},
   "source": [
    "<a id='import'></a>"
   ]
  },
  {
   "cell_type": "markdown",
   "metadata": {},
   "source": [
    "# 1. Import Libraries"
   ]
  },
  {
   "cell_type": "code",
   "execution_count": 1,
   "metadata": {
    "scrolled": true
   },
   "outputs": [
    {
     "name": "stderr",
     "output_type": "stream",
     "text": [
      "Using TensorFlow backend.\n"
     ]
    }
   ],
   "source": [
    "#dataframes\n",
    "import pandas as pd\n",
    "\n",
    "#math\n",
    "import numpy as np\n",
    "from numpy import zeros\n",
    "np.random.seed(0)\n",
    "\n",
    "import seaborn as sns\n",
    "import matplotlib.pyplot as plt\n",
    "%matplotlib inline\n",
    "\n",
    "#nltk\n",
    "import nltk\n",
    "from nltk import word_tokenize\n",
    "\n",
    "#keras sequential models\n",
    "from keras.models import Sequential\n",
    "from keras.layers import Dense\n",
    "from keras.layers import Flatten\n",
    "from keras.layers import Embedding\n",
    "\n",
    "#evaluation metrics\n",
    "from sklearn.model_selection import train_test_split\n",
    "from sklearn.metrics import accuracy_score\n",
    "from sklearn.pipeline import Pipeline\n",
    "from sklearn.model_selection import cross_val_score\n",
    "from sklearn.decomposition import TruncatedSVD\n",
    "from sklearn.model_selection import KFold\n",
    "\n",
    "#load deep learning modules\n",
    "from keras.layers import Input, Dense, LSTM, Embedding #LSTM and embedding\n",
    "from keras.layers import Dropout, Activation, Bidirectional, GlobalMaxPool1D\n",
    "from keras.models import Model\n",
    "from keras import initializers, regularizers, constraints, optimizers, layers\n",
    "\n",
    "#keras visualizations\n",
    "import keras\n",
    "from keras.utils import plot_model\n",
    "\n",
    "#data preparation\n",
    "from keras.preprocessing.sequence import pad_sequences\n",
    "from keras.preprocessing import text, sequence #preprocessing\n",
    "from keras.preprocessing.text import Tokenizer\n",
    "from keras.preprocessing.sequence import pad_sequences"
   ]
  },
  {
   "cell_type": "markdown",
   "metadata": {},
   "source": [
    "<a id='open'></a>"
   ]
  },
  {
   "cell_type": "markdown",
   "metadata": {},
   "source": [
    "### 1.1. Open and Read Data"
   ]
  },
  {
   "cell_type": "code",
   "execution_count": 2,
   "metadata": {},
   "outputs": [],
   "source": [
    "data_text = pd.read_csv('scripts.csv') #open and read clean script df\n",
    "df_clean = pd.read_csv('cleandata.csv') #open and read pre-processed df"
   ]
  },
  {
   "cell_type": "markdown",
   "metadata": {},
   "source": [
    "<a id='deep'></a>"
   ]
  },
  {
   "cell_type": "markdown",
   "metadata": {},
   "source": [
    "# 2. Deep Learning with Word Embeddings"
   ]
  },
  {
   "cell_type": "markdown",
   "metadata": {},
   "source": [
    "Let's try generating our own word embedding vectors by utilizing an embedding layer inside of a deep neural network. "
   ]
  },
  {
   "cell_type": "markdown",
   "metadata": {},
   "source": [
    "<a id='prep'></a>"
   ]
  },
  {
   "cell_type": "markdown",
   "metadata": {},
   "source": [
    "### 2.1. Preprocessing for Keras"
   ]
  },
  {
   "cell_type": "markdown",
   "metadata": {},
   "source": [
    "Let's start by taking care of our target variable"
   ]
  },
  {
   "cell_type": "code",
   "execution_count": 3,
   "metadata": {},
   "outputs": [],
   "source": [
    "target = data_text['label'] #first designate our target variable"
   ]
  },
  {
   "cell_type": "code",
   "execution_count": 4,
   "metadata": {},
   "outputs": [],
   "source": [
    "y = pd.get_dummies(target).values #label encoding our target"
   ]
  },
  {
   "cell_type": "code",
   "execution_count": 5,
   "metadata": {
    "scrolled": false
   },
   "outputs": [
    {
     "data": {
      "text/plain": [
       "(28483, 2)"
      ]
     },
     "execution_count": 5,
     "metadata": {},
     "output_type": "execute_result"
    }
   ],
   "source": [
    "y.shape #check our work"
   ]
  },
  {
   "cell_type": "markdown",
   "metadata": {},
   "source": [
    "The bulk of our preprocessing will be completed using Keras functions from the Keras preprocessing library, so that our data will be optimized for our Keras CNN. The first thing we will do is tokenize the data using Keras' specific text Tokenizer. Then we wil convert our tokenized data into sequences and then pad those sequences so that they are all the same length."
   ]
  },
  {
   "cell_type": "code",
   "execution_count": 6,
   "metadata": {},
   "outputs": [],
   "source": [
    "tokenizer = text.Tokenizer(num_words=20000) #limit words in vocab to 20000\n",
    "tokenizer.fit_on_texts(list(data_text.script)) #fit tokenizer\n",
    "list_tokenized_scripts = tokenizer.texts_to_sequences(data_text.script) #convert to sequences\n",
    "X_t = sequence.pad_sequences(list_tokenized_scripts, maxlen=100) #pad sequences"
   ]
  },
  {
   "cell_type": "markdown",
   "metadata": {},
   "source": [
    "Next comes our handy dandy test-train split. Keras works best with a validation set, but we can designate that when we fit our model a little bit later."
   ]
  },
  {
   "cell_type": "code",
   "execution_count": 7,
   "metadata": {},
   "outputs": [],
   "source": [
    "#splitting our test set from our train set\n",
    "X_train, X_test, y_train, y_test  = train_test_split(\n",
    "    X_t, \n",
    "    y,\n",
    "    train_size=0.8, \n",
    "    random_state=0)"
   ]
  },
  {
   "cell_type": "markdown",
   "metadata": {},
   "source": [
    "<a id='build'></a>"
   ]
  },
  {
   "cell_type": "markdown",
   "metadata": {},
   "source": [
    "### 2.2. Build Our Neural Network "
   ]
  },
  {
   "cell_type": "markdown",
   "metadata": {},
   "source": [
    "Our first layer is our input layer. After that, we begin on our embedding layer, which is where we define how large our word vectors should be (embedding size = 128, which is the first thing we specified). We will also take this time to specify the size of the embedding space itself (which works most successfully when it mirrors the size of our vocabulary, which we set to 20,000 during tokenization above). \n",
    "\n",
    "After leaving our embedding layer, our data's journey continues into an LSTM (Long Short Term Memory) layer, followed by a Pooling layer, a Dense layer and then an output layer. To reduce overfitting on our data, we have added a few Dropout layers along the way.\n",
    "\n",
    "Our output layer is a dense layer with only two neurons, to correspond to the class binary (success and failure) in our labels. To retrieve a vector of predictions, we have set the activation function to 'softmax'. "
   ]
  },
  {
   "cell_type": "code",
   "execution_count": 8,
   "metadata": {
    "scrolled": true
   },
   "outputs": [
    {
     "name": "stdout",
     "output_type": "stream",
     "text": [
      "WARNING:tensorflow:From C:\\Users\\Emily\\Anaconda3\\Newfolder\\lib\\site-packages\\tensorflow\\python\\framework\\op_def_library.py:263: colocate_with (from tensorflow.python.framework.ops) is deprecated and will be removed in a future version.\n",
      "Instructions for updating:\n",
      "Colocations handled automatically by placer.\n",
      "WARNING:tensorflow:From C:\\Users\\Emily\\Anaconda3\\Newfolder\\lib\\site-packages\\keras\\backend\\tensorflow_backend.py:3733: calling dropout (from tensorflow.python.ops.nn_ops) with keep_prob is deprecated and will be removed in a future version.\n",
      "Instructions for updating:\n",
      "Please use `rate` instead of `keep_prob`. Rate should be set to `rate = 1 - keep_prob`.\n"
     ]
    }
   ],
   "source": [
    "embedding_size = 128\n",
    "input_ = Input(shape=(100,))\n",
    "x = Embedding(20000, embedding_size)(input_) #20000 because thats how many words we kept in our vocab\n",
    "x = LSTM(25, return_sequences=True)(x)\n",
    "x = GlobalMaxPool1D()(x)\n",
    "x = Dropout(0.5)(x)\n",
    "x = Dense(50, activation='relu')(x)\n",
    "x = Dropout(0.5)(x)\n",
    "# There are only 2 different possible classes, so we use 2 neurons in our output layer\n",
    "x = Dense(2, activation='softmax')(x)\n",
    "\n",
    "model = Model(inputs=input_, outputs=x)"
   ]
  },
  {
   "cell_type": "code",
   "execution_count": 9,
   "metadata": {
    "scrolled": false
   },
   "outputs": [
    {
     "data": {
      "image/png": "[encoded data removed]",
      "text/plain": [
       "<IPython.core.display.Image object>"
      ]
     },
     "execution_count": 9,
     "metadata": {},
     "output_type": "execute_result"
    }
   ],
   "source": [
    "keras.utils.plot_model(model, 'multi_input_and_output_model.png', show_shapes=True) #visualize overview of model"
   ]
  },
  {
   "cell_type": "markdown",
   "metadata": {},
   "source": [
    "<a id='compile'></a>"
   ]
  },
  {
   "cell_type": "markdown",
   "metadata": {},
   "source": [
    "### 2.3. Compile and Fit Data"
   ]
  },
  {
   "cell_type": "markdown",
   "metadata": {},
   "source": [
    "We are now ready to compile our model and choose a loss function as well as an optimizer. Since this is a binary classification problem and the model outputs a probability (a single-unit layer with a sigmoid activation), we'll use the binary_crossentropy loss function, which works well with probabilities. This loss function measures the \"distance\" between probability distributions. The Adam optimization algorithm is an extension to stochastic gradient descent that has recently become fairly popular for natural language processing projects."
   ]
  },
  {
   "cell_type": "code",
   "execution_count": 10,
   "metadata": {},
   "outputs": [],
   "source": [
    "#compile the model\n",
    "model.compile(optimizer='adam',  \n",
    "              loss='binary_crossentropy',\n",
    "              metrics=['accuracy'])"
   ]
  },
  {
   "cell_type": "markdown",
   "metadata": {},
   "source": [
    "And finally, it's time to fit our model to our data! We will set epochs to 50 for the sake of time. This is also where we will take time to implement our validation set split that we mentioned before."
   ]
  },
  {
   "cell_type": "code",
   "execution_count": 11,
   "metadata": {
    "scrolled": true
   },
   "outputs": [
    {
     "name": "stdout",
     "output_type": "stream",
     "text": [
      "WARNING:tensorflow:From C:\\Users\\Emily\\Anaconda3\\Newfolder\\lib\\site-packages\\tensorflow\\python\\ops\\math_ops.py:3066: to_int32 (from tensorflow.python.ops.math_ops) is deprecated and will be removed in a future version.\n",
      "Instructions for updating:\n",
      "Use tf.cast instead.\n",
      "WARNING:tensorflow:From C:\\Users\\Emily\\Anaconda3\\Newfolder\\lib\\site-packages\\tensorflow\\python\\ops\\math_grad.py:102: div (from tensorflow.python.ops.math_ops) is deprecated and will be removed in a future version.\n",
      "Instructions for updating:\n",
      "Deprecated in favor of operator or tf.math.divide.\n",
      "Train on 20507 samples, validate on 2279 samples\n",
      "Epoch 1/50\n",
      "20507/20507 [==============================] - 19s 942us/step - loss: 0.6924 - acc: 0.5204 - val_loss: 0.6912 - val_acc: 0.5362\n",
      "Epoch 2/50\n",
      "20507/20507 [==============================] - 20s 956us/step - loss: 0.6906 - acc: 0.5223 - val_loss: 0.6886 - val_acc: 0.5362\n",
      "Epoch 3/50\n",
      "20507/20507 [==============================] - 20s 958us/step - loss: 0.6814 - acc: 0.5673 - val_loss: 0.6769 - val_acc: 0.5748\n",
      "Epoch 4/50\n",
      "20507/20507 [==============================] - 21s 1ms/step - loss: 0.6361 - acc: 0.6439 - val_loss: 0.6599 - val_acc: 0.5893\n",
      "Epoch 5/50\n",
      "20507/20507 [==============================] - 21s 1ms/step - loss: 0.5691 - acc: 0.6963 - val_loss: 0.6551 - val_acc: 0.6134\n",
      "Epoch 6/50\n",
      "20507/20507 [==============================] - 21s 1ms/step - loss: 0.5086 - acc: 0.7271 - val_loss: 0.6837 - val_acc: 0.6139\n",
      "Epoch 7/50\n",
      "20507/20507 [==============================] - 21s 1ms/step - loss: 0.4703 - acc: 0.7454 - val_loss: 0.7146 - val_acc: 0.6183\n",
      "Epoch 8/50\n",
      "20507/20507 [==============================] - 21s 1ms/step - loss: 0.4411 - acc: 0.7539 - val_loss: 0.7780 - val_acc: 0.6169\n",
      "Epoch 9/50\n",
      "20507/20507 [==============================] - 21s 1ms/step - loss: 0.4278 - acc: 0.7581 - val_loss: 0.8006 - val_acc: 0.6209\n",
      "Epoch 10/50\n",
      "20507/20507 [==============================] - 18s 870us/step - loss: 0.4121 - acc: 0.7624 - val_loss: 0.8676 - val_acc: 0.6086\n",
      "Epoch 11/50\n",
      "20507/20507 [==============================] - 23s 1ms/step - loss: 0.4047 - acc: 0.7668 - val_loss: 0.9104 - val_acc: 0.6130\n",
      "Epoch 12/50\n",
      "20507/20507 [==============================] - 22s 1ms/step - loss: 0.3987 - acc: 0.7681 - val_loss: 0.9545 - val_acc: 0.6152\n",
      "Epoch 13/50\n",
      "20507/20507 [==============================] - 22s 1ms/step - loss: 0.3893 - acc: 0.7708 - val_loss: 0.9956 - val_acc: 0.6003\n",
      "Epoch 14/50\n",
      "20507/20507 [==============================] - 21s 1ms/step - loss: 0.3862 - acc: 0.7696 - val_loss: 1.0781 - val_acc: 0.6174\n",
      "Epoch 15/50\n",
      "20507/20507 [==============================] - 21s 1ms/step - loss: 0.3802 - acc: 0.7707 - val_loss: 1.1167 - val_acc: 0.6139\n",
      "Epoch 16/50\n",
      "20507/20507 [==============================] - 22s 1ms/step - loss: 0.3780 - acc: 0.7716 - val_loss: 1.1354 - val_acc: 0.6165\n",
      "Epoch 17/50\n",
      "20507/20507 [==============================] - 22s 1ms/step - loss: 0.3715 - acc: 0.7759 - val_loss: 1.1957 - val_acc: 0.6020\n",
      "Epoch 18/50\n",
      "20507/20507 [==============================] - 21s 1ms/step - loss: 0.3696 - acc: 0.7790 - val_loss: 1.2434 - val_acc: 0.6090\n",
      "Epoch 19/50\n",
      "20507/20507 [==============================] - 21s 1ms/step - loss: 0.3671 - acc: 0.7762 - val_loss: 1.3098 - val_acc: 0.6117\n",
      "Epoch 20/50\n",
      "20507/20507 [==============================] - 23s 1ms/step - loss: 0.3626 - acc: 0.7833 - val_loss: 1.3061 - val_acc: 0.6099\n",
      "Epoch 21/50\n",
      "20507/20507 [==============================] - 21s 1ms/step - loss: 0.3544 - acc: 0.7817 - val_loss: 1.3401 - val_acc: 0.6090\n",
      "Epoch 22/50\n",
      "20507/20507 [==============================] - 21s 1ms/step - loss: 0.3530 - acc: 0.7855 - val_loss: 1.4255 - val_acc: 0.6086\n",
      "Epoch 23/50\n",
      "20507/20507 [==============================] - 22s 1ms/step - loss: 0.3521 - acc: 0.7856 - val_loss: 1.4496 - val_acc: 0.6042\n",
      "Epoch 24/50\n",
      "20507/20507 [==============================] - 20s 978us/step - loss: 0.3513 - acc: 0.7873 - val_loss: 1.5175 - val_acc: 0.6060\n",
      "Epoch 25/50\n",
      "20507/20507 [==============================] - 23s 1ms/step - loss: 0.3509 - acc: 0.7847 - val_loss: 1.4802 - val_acc: 0.6038\n",
      "Epoch 26/50\n",
      "20507/20507 [==============================] - 24s 1ms/step - loss: 0.3470 - acc: 0.7867 - val_loss: 1.5266 - val_acc: 0.6095\n",
      "Epoch 27/50\n",
      "20507/20507 [==============================] - 20s 964us/step - loss: 0.3427 - acc: 0.7908 - val_loss: 1.5236 - val_acc: 0.6016\n",
      "Epoch 28/50\n",
      "20507/20507 [==============================] - 18s 901us/step - loss: 0.3410 - acc: 0.7889 - val_loss: 1.5420 - val_acc: 0.6042\n",
      "Epoch 29/50\n",
      "20507/20507 [==============================] - 20s 992us/step - loss: 0.3403 - acc: 0.7874 - val_loss: 1.5857 - val_acc: 0.6134\n",
      "Epoch 30/50\n",
      "20507/20507 [==============================] - 22s 1ms/step - loss: 0.3392 - acc: 0.7923 - val_loss: 1.6268 - val_acc: 0.6086\n",
      "Epoch 31/50\n",
      "20507/20507 [==============================] - 22s 1ms/step - loss: 0.3356 - acc: 0.7933 - val_loss: 1.6562 - val_acc: 0.6020\n",
      "Epoch 32/50\n",
      "20507/20507 [==============================] - 21s 1ms/step - loss: 0.3359 - acc: 0.7957 - val_loss: 1.6837 - val_acc: 0.6073\n",
      "Epoch 33/50\n",
      "20507/20507 [==============================] - 22s 1ms/step - loss: 0.3329 - acc: 0.7937 - val_loss: 1.6744 - val_acc: 0.6029\n",
      "Epoch 34/50\n",
      "20507/20507 [==============================] - 22s 1ms/step - loss: 0.3292 - acc: 0.7954 - val_loss: 1.7436 - val_acc: 0.6095\n",
      "Epoch 35/50\n",
      "20507/20507 [==============================] - 21s 1ms/step - loss: 0.3261 - acc: 0.7994 - val_loss: 1.7204 - val_acc: 0.6060\n",
      "Epoch 36/50\n",
      "20507/20507 [==============================] - 22s 1ms/step - loss: 0.3301 - acc: 0.7975 - val_loss: 1.7555 - val_acc: 0.6108\n",
      "Epoch 37/50\n",
      "20507/20507 [==============================] - 22s 1ms/step - loss: 0.3284 - acc: 0.7977 - val_loss: 1.6702 - val_acc: 0.6055\n",
      "Epoch 38/50\n",
      "20507/20507 [==============================] - 23s 1ms/step - loss: 0.3280 - acc: 0.7995 - val_loss: 1.8031 - val_acc: 0.6090\n",
      "Epoch 39/50\n",
      "20507/20507 [==============================] - 23s 1ms/step - loss: 0.3245 - acc: 0.7983 - val_loss: 1.7948 - val_acc: 0.6051\n",
      "Epoch 40/50\n",
      "20507/20507 [==============================] - 22s 1ms/step - loss: 0.3216 - acc: 0.7998 - val_loss: 1.7994 - val_acc: 0.6003\n",
      "Epoch 41/50\n",
      "20507/20507 [==============================] - 22s 1ms/step - loss: 0.3235 - acc: 0.8016 - val_loss: 1.8983 - val_acc: 0.5963\n",
      "Epoch 42/50\n",
      "20507/20507 [==============================] - 22s 1ms/step - loss: 0.3220 - acc: 0.8009 - val_loss: 1.8719 - val_acc: 0.5976\n",
      "Epoch 43/50\n",
      "20507/20507 [==============================] - 22s 1ms/step - loss: 0.3180 - acc: 0.8048 - val_loss: 1.8697 - val_acc: 0.6020\n",
      "Epoch 44/50\n",
      "20507/20507 [==============================] - 23s 1ms/step - loss: 0.3170 - acc: 0.8050 - val_loss: 1.8665 - val_acc: 0.6007\n",
      "Epoch 45/50\n",
      "20507/20507 [==============================] - 22s 1ms/step - loss: 0.3165 - acc: 0.8042 - val_loss: 1.9140 - val_acc: 0.6011\n",
      "Epoch 46/50\n",
      "20507/20507 [==============================] - 21s 1ms/step - loss: 0.3124 - acc: 0.8088 - val_loss: 1.8984 - val_acc: 0.6029\n",
      "Epoch 47/50\n",
      "20507/20507 [==============================] - 23s 1ms/step - loss: 0.3163 - acc: 0.8065 - val_loss: 1.9371 - val_acc: 0.6029\n",
      "Epoch 48/50\n",
      "20507/20507 [==============================] - 23s 1ms/step - loss: 0.3318 - acc: 0.8028 - val_loss: 1.5357 - val_acc: 0.5998\n",
      "Epoch 49/50\n",
      "20507/20507 [==============================] - 24s 1ms/step - loss: 0.3902 - acc: 0.7775 - val_loss: 1.5823 - val_acc: 0.6090\n",
      "Epoch 50/50\n",
      "20507/20507 [==============================] - 25s 1ms/step - loss: 0.3421 - acc: 0.7967 - val_loss: 1.6705 - val_acc: 0.6016\n"
     ]
    }
   ],
   "source": [
    "history = model.fit(X_train, y_train, epochs=50, batch_size=512, validation_split=0.1) #fit the model"
   ]
  },
  {
   "cell_type": "markdown",
   "metadata": {},
   "source": [
    "<a id='eval1'></a>"
   ]
  },
  {
   "cell_type": "markdown",
   "metadata": {},
   "source": [
    "### 2.4. Model Evaluation"
   ]
  },
  {
   "cell_type": "markdown",
   "metadata": {},
   "source": [
    "Let's check out the performance of our model."
   ]
  },
  {
   "cell_type": "code",
   "execution_count": 12,
   "metadata": {},
   "outputs": [],
   "source": [
    "score = model.evaluate(X_test, y_test, verbose=0) #generate score"
   ]
  },
  {
   "cell_type": "code",
   "execution_count": 13,
   "metadata": {
    "scrolled": true
   },
   "outputs": [
    {
     "name": "stdout",
     "output_type": "stream",
     "text": [
      "Test loss: 1.6653948310741065\n",
      "Test accuracy: 0.6097946287519748\n"
     ]
    }
   ],
   "source": [
    "#print scores\n",
    "print('Test loss:', score[0])\n",
    "print('Test accuracy:', score[1])"
   ]
  },
  {
   "cell_type": "markdown",
   "metadata": {},
   "source": [
    "61% is not a great accuracy score for our test data, but if we peak at the output for our model above, it looks like we got our accuracy level up to roughly 81% on the training set! Let's see what a visualization of the performance can show us."
   ]
  },
  {
   "cell_type": "code",
   "execution_count": 14,
   "metadata": {
    "scrolled": false
   },
   "outputs": [
    {
     "data": {
      "image/png": "[encoded data removed]",
      "text/plain": [
       "<Figure size 432x288 with 1 Axes>"
      ]
     },
     "metadata": {
      "needs_background": "light"
     },
     "output_type": "display_data"
    },
    {
     "data": {
      "image/png": "[encoded data removed]",
      "text/plain": [
       "<Figure size 432x288 with 1 Axes>"
      ]
     },
     "metadata": {
      "needs_background": "light"
     },
     "output_type": "display_data"
    }
   ],
   "source": [
    "#generate accuracy scores for train and val set\n",
    "acc = history.history['acc']\n",
    "val_acc = history.history['val_acc']\n",
    "\n",
    "#generate loss scores for train and val set\n",
    "loss = history.history['loss']\n",
    "val_loss = history.history['val_loss']\n",
    "\n",
    "epochs = range(len(acc))\n",
    "#plot accuracy score data\n",
    "plt.plot(epochs, acc, 'bo', label='Training acc')\n",
    "plt.plot(epochs, val_acc, 'b', label='Validation acc')\n",
    "plt.title('Training and validation accuracy')\n",
    "plt.legend()\n",
    "plt.figure()\n",
    "\n",
    "#plot loss function data\n",
    "plt.plot(epochs, loss, 'bo', label='Training loss')\n",
    "plt.plot(epochs, val_loss, 'b', label='Validation loss')\n",
    "plt.title('Training and validation loss')\n",
    "plt.legend()\n",
    "plt.show()"
   ]
  },
  {
   "cell_type": "markdown",
   "metadata": {},
   "source": [
    "The difference in performance on our training set and validation set is gargantuan. In another project, this could be indicative of a massive over-fitting issue, but I am inclined to say that the difference in performance in these sets is largely due to the small size of the data. "
   ]
  },
  {
   "cell_type": "markdown",
   "metadata": {},
   "source": [
    "Because one of our largest issues seems to be our lack of data, we are going to try validating our model with k_folds cross validation, which is a resampling procedure used to evaluate machine learning models on a limited data sample."
   ]
  },
  {
   "cell_type": "markdown",
   "metadata": {},
   "source": [
    "<a id='cross'></a>"
   ]
  },
  {
   "cell_type": "markdown",
   "metadata": {},
   "source": [
    "## 3. K- Folds Cross Validation"
   ]
  },
  {
   "cell_type": "markdown",
   "metadata": {},
   "source": [
    "To account for the small size of our dataset, we can implement K-Folds Cross Validation instead of using a validation set. This will save us a bit of data and hopefully improve our scores. Let's re-split our data and then re-run the initial model that we created."
   ]
  },
  {
   "cell_type": "code",
   "execution_count": 15,
   "metadata": {
    "scrolled": false
   },
   "outputs": [
    {
     "name": "stdout",
     "output_type": "stream",
     "text": [
      "(25634, 100) (2849, 100) (25634, 2) (2849, 2)\n"
     ]
    }
   ],
   "source": [
    "#split on X_t, which we just pre-processed above\n",
    "X_train, X_test, y_train, y_test = train_test_split(X_t, y, test_size=0.1, random_state=123)  \n",
    "print(X_train.shape, X_test.shape, y_train.shape, y_test.shape) #check shapes"
   ]
  },
  {
   "cell_type": "markdown",
   "metadata": {},
   "source": [
    "<a id='define'></a>"
   ]
  },
  {
   "cell_type": "markdown",
   "metadata": {},
   "source": [
    "### 3.1. Defining a K-Folds Function"
   ]
  },
  {
   "cell_type": "markdown",
   "metadata": {},
   "source": [
    "Our next step is to define a function to evaluate a model object using K-folds cross validation."
   ]
  },
  {
   "cell_type": "code",
   "execution_count": 16,
   "metadata": {},
   "outputs": [],
   "source": [
    "#defining a function to evaluate a model object using K folds cross validation.\n",
    "def k_folds(features_train, labels_train, model_obj, k=10, n_epochs=10):\n",
    "    colors = sns.color_palette(\"Set2\")\n",
    "\n",
    "    validation_scores = [] \n",
    "    \n",
    "    kf = KFold(n_splits=10, shuffle=True)\n",
    "    \n",
    "    fig, axes = plt.subplots(2, 5, figsize=(12,8))\n",
    "    for i, (train_index, test_index) in enumerate(kf.split(features_train)):\n",
    "        \"Currently graph imaging assumes 10 folds and is hardcoded to 5x2 layout.\"\n",
    "        row = i//5\n",
    "        col = i%5\n",
    "        X_train, X_val = features_train[train_index], features_train[test_index]\n",
    "        y_train, y_val = labels_train[train_index], labels_train[test_index]\n",
    " \n",
    "        model = model_obj\n",
    "        hist = model.fit(X_train, y_train, batch_size=512,\n",
    "                         epochs=n_epochs, verbose=0, validation_data = (X_val, y_val))\n",
    "        #Note: verboxe=0 turns off printouts regarding training for each epoch.\n",
    "        #Potential simpler methodology\n",
    "        validation_score = model.evaluate(X_val, y_val)\n",
    "        validation_scores.append(validation_score[1])\n",
    "        ax = axes[row, col]\n",
    "        k = 'val_loss'\n",
    "        d = hist.history[k]\n",
    "        ax.plot(d, label=k, color=colors[0])\n",
    "\n",
    "        k = 'loss'\n",
    "        d = hist.history[k]\n",
    "        ax.plot(d, label=k, color=colors[1])\n",
    "        ax.set_title('Fold {} Validation'.format(i+1))\n",
    "    #Final Graph Formatting\n",
    "    plt.subplots_adjust(left=None, bottom=None, right=None, top=None, wspace=0.5, hspace=None)\n",
    "    plt.legend(bbox_to_anchor=(1,1))\n",
    "    \n",
    "    #General Overview\n",
    "    validation_score = np.average(validation_scores)\n",
    "    mean_val = print('Mean Validation Accuracy Score:', validation_score)\n",
    "    stnd_val = print('Standard Deviation of Validation Accuracy Scores:', np.std(validation_scores))\n",
    "    return validation_score\n",
    "    return mean_val\n",
    "    return stnd_val"
   ]
  },
  {
   "cell_type": "markdown",
   "metadata": {},
   "source": [
    "<a id='re-eval'></a>"
   ]
  },
  {
   "cell_type": "markdown",
   "metadata": {},
   "source": [
    "### 3.2. Re-Evaluation"
   ]
  },
  {
   "cell_type": "code",
   "execution_count": 17,
   "metadata": {
    "scrolled": false
   },
   "outputs": [
    {
     "name": "stdout",
     "output_type": "stream",
     "text": [
      "2564/2564 [==============================] - 2s 799us/step\n",
      "2564/2564 [==============================] - 2s 890us/step\n",
      "2564/2564 [==============================] - 2s 876us/step\n",
      "2564/2564 [==============================] - 2s 816us/step\n",
      "2563/2563 [==============================] - 2s 774us/step\n",
      "2563/2563 [==============================] - 2s 880us/step\n",
      "2563/2563 [==============================] - 2s 769us/step\n",
      "2563/2563 [==============================] - 2s 895us/step\n",
      "2563/2563 [==============================] - 2s 883us/step\n",
      "2563/2563 [==============================] - 2s 969us/step\n",
      "Mean Validation Accuracy Score: 0.8040161411465592\n",
      "Standard Deviation of Validation Accuracy Scores: 0.03452021792835522\n",
      "Time Elapsed: 0:40:13.623855\n"
     ]
    },
    {
     "data": {
      "image/png": "[encoded data removed]",
      "text/plain": [
       "<Figure size 864x576 with 10 Axes>"
      ]
     },
     "metadata": {
      "needs_background": "light"
     },
     "output_type": "display_data"
    }
   ],
   "source": [
    "import time\n",
    "import datetime\n",
    "\n",
    "#keep track of how long this takes\n",
    "now = datetime.datetime.now()\n",
    "\n",
    "#fit data to k-folds\n",
    "k_folds(X_train, y_train, model)\n",
    "\n",
    "later = datetime.datetime.now()\n",
    "elapsed = later - now\n",
    "print('Time Elapsed:', elapsed)"
   ]
  },
  {
   "cell_type": "markdown",
   "metadata": {},
   "source": [
    "Using K-folds cross evaluation proved to be the necessary choice to deal with a small dataset like ours. Our loss function dropped dramatically and our mean accuracy (printed above the visuals) is a cool 80%! This accuracy score is almost 20 percent higher than our previous score of 61% and our loss function looks like it had an average score of about 35, which is also a huge improvement from the previous value of 1.91. I guess every bit of data counts! While it did take about 30 minutes to run, that's not so bad in the grand scheme of things. Now that we've built a pretty successful model, let's take a look at creating a model using another NLP word embedding technique, GloVe data!"
   ]
  },
  {
   "cell_type": "markdown",
   "metadata": {},
   "source": [
    "<a id='glove'></a>"
   ]
  },
  {
   "cell_type": "markdown",
   "metadata": {},
   "source": [
    "# 4. Word Embeddings with GloVe"
   ]
  },
  {
   "cell_type": "markdown",
   "metadata": {},
   "source": [
    "The Keras Embedding layer can also make use of word embedding learned elsewhere.The pretrained GloVe data (retrieved from https://nlp.stanford.edu/projects/glove/) contains vectors for 6 billion words and phrases. However, I don't think these sitcoms pilot scripts are sophisticated enough to require all 6 billion of those words. We are going to generate a list of all of the unique words in our script data and only keep the vectors in the GloVe data that match up with our own total vocabulary so that we do not waste memory."
   ]
  },
  {
   "cell_type": "markdown",
   "metadata": {},
   "source": [
    "<a id='vocab'></a>"
   ]
  },
  {
   "cell_type": "markdown",
   "metadata": {},
   "source": [
    "### 4.1. Create Total Vocabulary"
   ]
  },
  {
   "cell_type": "markdown",
   "metadata": {},
   "source": [
    "This is similiar to what we did for generating the total vocabulary for TF-IDF data, but we will try gathering the total_vocab form our data_text dataframe instead of our df_clean dataframe."
   ]
  },
  {
   "cell_type": "code",
   "execution_count": 18,
   "metadata": {},
   "outputs": [],
   "source": [
    "data_script = data_text['script'].map(word_tokenize).values #tokenize words solely to get total_vocab variable"
   ]
  },
  {
   "cell_type": "code",
   "execution_count": 19,
   "metadata": {},
   "outputs": [],
   "source": [
    "total_vocabulary = set(word for script in data_script for word in script) #add all tokens from each script into our list"
   ]
  },
  {
   "cell_type": "code",
   "execution_count": 20,
   "metadata": {
    "scrolled": true
   },
   "outputs": [
    {
     "name": "stdout",
     "output_type": "stream",
     "text": [
      "There are 12455 unique tokens in our dataset.\n"
     ]
    }
   ],
   "source": [
    "len(total_vocabulary)\n",
    "print(\"There are {} unique tokens in our dataset.\".format(len(total_vocabulary)))"
   ]
  },
  {
   "cell_type": "markdown",
   "metadata": {},
   "source": [
    "We skipped a few of the pre-processing techniques that we used before (such as removing common words), so it looks like our total vocabulary is a little bit longer than it was in our TF-IDF data that we used in the previous notebook. Let's move on to opening and loading GloVe. "
   ]
  },
  {
   "cell_type": "code",
   "execution_count": 21,
   "metadata": {},
   "outputs": [
    {
     "name": "stdout",
     "output_type": "stream",
     "text": [
      "Wall time: 1min 34s\n"
     ]
    }
   ],
   "source": [
    "%%time\n",
    "\n",
    "#open GloVe and read vectors\n",
    "glove = {}\n",
    "with open('glove.840B.300d.txt', 'rb') as f:\n",
    "    for line in f:\n",
    "        parts = line.split()\n",
    "        word = parts[0].decode('utf-8')\n",
    "        if word in total_vocabulary:\n",
    "            vector = np.array(parts[1:], dtype=np.float32)\n",
    "            glove[word] = vector"
   ]
  },
  {
   "cell_type": "code",
   "execution_count": 22,
   "metadata": {
    "scrolled": true
   },
   "outputs": [
    {
     "data": {
      "text/plain": [
       "array([ 0.25233  ,  0.10176  , -0.67485  ,  0.21117  ,  0.43492  ,\n",
       "        0.16542  ,  0.48261  , -0.81222  ,  0.041321 ,  0.78502  ,\n",
       "       -0.077857 , -0.66324  ,  0.1464   , -0.29289  , -0.25488  ,\n",
       "        0.019293 , -0.20265  ,  0.98232  ,  0.028312 , -0.081276 ,\n",
       "       -0.1214   ,  0.13126  , -0.17648  ,  0.13556  , -0.16361  ,\n",
       "       -0.22574  ,  0.055006 , -0.20308  ,  0.20718  ,  0.095785 ,\n",
       "        0.22481  ,  0.21537  , -0.32982  , -0.12241  , -0.40031  ,\n",
       "       -0.079381 , -0.19958  , -0.015083 , -0.079139 , -0.18132  ,\n",
       "        0.20681  , -0.36196  , -0.30744  , -0.24422  , -0.23113  ,\n",
       "        0.09798  ,  0.1463   , -0.062738 ,  0.42934  , -0.078038 ,\n",
       "       -0.19627  ,  0.65093  , -0.22807  , -0.30308  , -0.12483  ,\n",
       "       -0.17568  , -0.14651  ,  0.15361  , -0.29518  ,  0.15099  ,\n",
       "       -0.51726  , -0.033564 , -0.23109  , -0.7833   ,  0.018029 ,\n",
       "       -0.15719  ,  0.02293  ,  0.49639  ,  0.029225 ,  0.05669  ,\n",
       "        0.14616  , -0.19195  ,  0.16244  ,  0.23898  ,  0.36431  ,\n",
       "        0.45263  ,  0.2456   ,  0.23803  ,  0.31399  ,  0.3487   ,\n",
       "       -0.035791 ,  0.56108  , -0.25345  ,  0.051964 , -0.10618  ,\n",
       "       -0.30962  ,  1.0585   , -0.42025  ,  0.18216  , -0.11256  ,\n",
       "        0.40576  ,  0.11784  , -0.19705  , -0.075292 ,  0.080723 ,\n",
       "       -0.02782  , -0.15617  , -0.44681  , -0.15165  ,  0.1692   ,\n",
       "        0.098255 , -0.031894 ,  0.087143 ,  0.26082  ,  0.002706 ,\n",
       "        0.1319   ,  0.34439  , -0.37894  , -0.4114   ,  0.081571 ,\n",
       "       -0.11674  , -0.43711  ,  0.011144 ,  0.099353 ,  0.26612  ,\n",
       "        0.40025  ,  0.18895  , -0.18438  , -0.30355  , -0.2725   ,\n",
       "        0.22468  , -0.40614  ,  0.15618  , -0.16043  ,  0.47147  ,\n",
       "        0.0080203,  0.56858  ,  0.21934  , -0.11181  ,  0.79925  ,\n",
       "        0.10714  , -0.50146  ,  0.063593 ,  0.069465 ,  0.15292  ,\n",
       "       -0.2747   , -0.20989  ,  0.20737  , -0.10681  ,  0.40651  ,\n",
       "       -2.6438   , -0.31139  , -0.32157  , -0.26458  , -0.35625  ,\n",
       "        0.070013 , -0.18838  ,  0.48773  , -0.26167  , -0.020805 ,\n",
       "        0.17819  ,  0.15758  , -0.13752  ,  0.056464 ,  0.30766  ,\n",
       "       -0.066136 ,  0.4748   , -0.27335  ,  0.09732  , -0.20832  ,\n",
       "        0.0039332,  0.346    , -0.08702  , -0.54924  , -0.18759  ,\n",
       "       -0.17174  ,  0.060324 , -0.13521  ,  0.10419  ,  0.30165  ,\n",
       "        0.05798  ,  0.21872  , -0.073594 , -0.20423  , -0.25279  ,\n",
       "       -0.10471  , -0.32163  ,  0.12525  , -0.31281  ,  0.0097207,\n",
       "       -0.26777  , -0.61121  , -0.11089  , -0.13652  ,  0.035135 ,\n",
       "       -0.4939   ,  0.084857 , -0.15494  , -0.063509 , -0.23935  ,\n",
       "        0.28272  ,  0.10849  , -0.3365   , -0.60764  ,  0.38576  ,\n",
       "       -0.0095438,  0.17499  , -0.52723  ,  0.62211  ,  0.19544  ,\n",
       "       -0.48977  ,  0.036582 , -0.128    , -0.016827 ,  0.25647  ,\n",
       "       -0.31698  ,  0.48257  , -0.14184  ,  0.11046  , -0.3098   ,\n",
       "       -0.63141  , -0.37268  ,  0.23183  , -0.14268  , -0.02341  ,\n",
       "        0.022255 , -0.044662 , -0.16404  , -0.25848  ,  0.1629   ,\n",
       "        0.024751 ,  0.23348  ,  0.27933  ,  0.38998  , -0.058968 ,\n",
       "        0.11355  ,  0.15673  ,  0.18583  , -0.19814  , -0.48123  ,\n",
       "       -0.035084 ,  0.078458 , -0.49833  ,  0.10855  , -0.20133  ,\n",
       "        0.05292  , -0.11583  , -0.16009  ,  0.16768  ,  0.42362  ,\n",
       "       -0.23106  ,  0.082465 ,  0.24296  , -0.16786  ,  0.0080409,\n",
       "        0.085947 ,  0.38033  ,  0.072981 ,  0.1633   ,  0.24704  ,\n",
       "       -0.11094  ,  0.15115  , -0.22068  , -0.061944 , -0.037091 ,\n",
       "       -0.087923 , -0.23181  ,  0.15035  , -0.19093  , -0.19113  ,\n",
       "       -0.11894  ,  0.094908 , -0.0043347,  0.15362  , -0.41201  ,\n",
       "       -0.3073   ,  0.18375  ,  0.40206  , -0.0034793, -0.10917  ,\n",
       "       -0.69522  ,  0.10161  , -0.079256 ,  0.40329  ,  0.22285  ,\n",
       "       -0.19374  , -0.13315  ,  0.073231 ,  0.099832 ,  0.11685  ,\n",
       "       -0.21643  , -0.1108   ,  0.10341  ,  0.097286 ,  0.11196  ,\n",
       "       -0.3894   , -0.0089363,  0.28809  , -0.10792  ,  0.028811 ,\n",
       "        0.32545  ,  0.26052  , -0.038941 ,  0.075204 ,  0.46031  ,\n",
       "       -0.06293  ,  0.21661  ,  0.17869  , -0.51917  ,  0.33591  ],\n",
       "      dtype=float32)"
      ]
     },
     "execution_count": 22,
     "metadata": {},
     "output_type": "execute_result"
    }
   ],
   "source": [
    "glove['hello'] #let's test and see if this worked"
   ]
  },
  {
   "cell_type": "markdown",
   "metadata": {},
   "source": [
    "Looks good to me!"
   ]
  },
  {
   "cell_type": "markdown",
   "metadata": {},
   "source": [
    "<a id='matrix'></a>"
   ]
  },
  {
   "cell_type": "markdown",
   "metadata": {},
   "source": [
    "### 4.2. Prepare Embedding Matrix"
   ]
  },
  {
   "cell_type": "markdown",
   "metadata": {},
   "source": [
    "We now need to define a a few variables to be able to accurately use our GloVe data in our Keras sequential model."
   ]
  },
  {
   "cell_type": "code",
   "execution_count": 23,
   "metadata": {},
   "outputs": [],
   "source": [
    "#we are going to retokenize our scripts one more time so that we can make use of keras tokenizer again\n",
    "#keras tokenizer will be important when creating the embedding matrix for our data a little bit later\n",
    "t = Tokenizer() \n",
    "corpus = data_text.script #define script variable\n",
    "t.fit_on_texts(corpus) \n",
    "\n",
    "#we need the length of the longest sentence to properly define the input layer in our keras model\n",
    "word_count = lambda sentence: len(word_tokenize(sentence))\n",
    "longest_sentence = max(corpus, key=word_count)\n",
    "length_long_sentence = len(word_tokenize(longest_sentence))"
   ]
  },
  {
   "cell_type": "code",
   "execution_count": 24,
   "metadata": {},
   "outputs": [],
   "source": [
    "vocab_length = len(t.word_index) + 1 #setting vocab_length, add 1 for place to store words with no word embeddings"
   ]
  },
  {
   "cell_type": "code",
   "execution_count": 25,
   "metadata": {},
   "outputs": [],
   "source": [
    "#create embedding matrix that contains the words in our corpus \n",
    "#as well as their corresponding values from GloVe embeddings\n",
    "#making use of keras tokenizer.word_index function\n",
    "embedding_matrix = zeros((vocab_length, 300))\n",
    "for word, index in t.word_index.items():\n",
    "    embedding_vector = glove.get(word)\n",
    "    if embedding_vector is not None:\n",
    "        embedding_matrix[index] = embedding_vector"
   ]
  },
  {
   "cell_type": "markdown",
   "metadata": {},
   "source": [
    "Before we build our model, we have to preprocess the data again to change maxlen to the length of our longest sentence during our padding step. Let's re-preprocess this data and then run our test/train split again."
   ]
  },
  {
   "cell_type": "code",
   "execution_count": 26,
   "metadata": {},
   "outputs": [],
   "source": [
    "tokenizer = text.Tokenizer(num_words=20000) #limit words in vocab to 20000\n",
    "tokenizer.fit_on_texts(list(data_text.script)) #fit tokenizer\n",
    "list_tokenized_scripts = tokenizer.texts_to_sequences(data_text.script) #convert to sequences\n",
    "X_t = sequence.pad_sequences(list_tokenized_scripts, maxlen=length_long_sentence) #pad sequences"
   ]
  },
  {
   "cell_type": "code",
   "execution_count": 27,
   "metadata": {},
   "outputs": [],
   "source": [
    "#splitting our test set from our train set one last time...\n",
    "#X_t and y are still defined from our last model\n",
    "X_train, X_test, y_train, y_test  = train_test_split(\n",
    "    X_t, \n",
    "    y,\n",
    "    train_size=0.8, \n",
    "    random_state=0)"
   ]
  },
  {
   "cell_type": "markdown",
   "metadata": {},
   "source": [
    "<a id='build2'></a>"
   ]
  },
  {
   "cell_type": "markdown",
   "metadata": {},
   "source": [
    "### 4.3. Building Model 2"
   ]
  },
  {
   "cell_type": "markdown",
   "metadata": {},
   "source": [
    "Next up, it's time to build our model! We will not include an LSTM in this model, we will just focus on our embedding layer."
   ]
  },
  {
   "cell_type": "code",
   "execution_count": 28,
   "metadata": {},
   "outputs": [],
   "source": [
    "#round 2\n",
    "input_ = Input(shape=(length_long_sentence,))\n",
    "x = Embedding(vocab_length, 300, weights=[embedding_matrix], input_length=length_long_sentence, trainable=False)(input_)\n",
    "x = Flatten()(x)\n",
    "x = Dropout(0.5)(x)\n",
    "x = Dense(50, activation='relu')(x)\n",
    "x = Dropout(0.5)(x)\n",
    "# There are only 2 different possible classes, so we use 2 neurons in our output layer\n",
    "x = Dense(2, activation='softmax')(x)\n",
    "\n",
    "model2 = Model(inputs=input_, outputs=x)"
   ]
  },
  {
   "cell_type": "code",
   "execution_count": 29,
   "metadata": {},
   "outputs": [
    {
     "data": {
      "image/png": "[encoded data removed]",
      "text/plain": [
       "<IPython.core.display.Image object>"
      ]
     },
     "execution_count": 29,
     "metadata": {},
     "output_type": "execute_result"
    }
   ],
   "source": [
    "#visualize model summary\n",
    "keras.utils.plot_model(model2, 'multi_input_and_output_model.png', show_shapes=True)"
   ]
  },
  {
   "cell_type": "code",
   "execution_count": 30,
   "metadata": {},
   "outputs": [],
   "source": [
    "# compile the model\n",
    "model2.compile(optimizer='adam', loss='binary_crossentropy', metrics=['acc'])"
   ]
  },
  {
   "cell_type": "markdown",
   "metadata": {},
   "source": [
    "<a id='performance2'></a>"
   ]
  },
  {
   "cell_type": "markdown",
   "metadata": {},
   "source": [
    "### 4.4. Performance of Model 2"
   ]
  },
  {
   "cell_type": "markdown",
   "metadata": {},
   "source": [
    "For the sake of time, we will not use K-Folds Cross-Validation, we will just continue with using a test-train-validation method of evaluating the performance of model 2."
   ]
  },
  {
   "cell_type": "code",
   "execution_count": 31,
   "metadata": {
    "scrolled": true
   },
   "outputs": [
    {
     "name": "stdout",
     "output_type": "stream",
     "text": [
      "Train on 20507 samples, validate on 2279 samples\n",
      "Epoch 1/50\n",
      "20507/20507 [==============================] - 19s 934us/step - loss: 0.6959 - acc: 0.5211 - val_loss: 0.6899 - val_acc: 0.5445\n",
      "Epoch 2/50\n",
      "20507/20507 [==============================] - 18s 872us/step - loss: 0.6836 - acc: 0.5475 - val_loss: 0.6876 - val_acc: 0.5564\n",
      "Epoch 3/50\n",
      "20507/20507 [==============================] - 18s 863us/step - loss: 0.6744 - acc: 0.5683 - val_loss: 0.6886 - val_acc: 0.5538\n",
      "Epoch 4/50\n",
      "20507/20507 [==============================] - 18s 864us/step - loss: 0.6657 - acc: 0.5815 - val_loss: 0.6858 - val_acc: 0.5437\n",
      "Epoch 5/50\n",
      "20507/20507 [==============================] - 18s 880us/step - loss: 0.6584 - acc: 0.5909 - val_loss: 0.6905 - val_acc: 0.5533\n",
      "Epoch 6/50\n",
      "20507/20507 [==============================] - 18s 862us/step - loss: 0.6497 - acc: 0.5968 - val_loss: 0.6882 - val_acc: 0.5463\n",
      "Epoch 7/50\n",
      "20507/20507 [==============================] - 18s 863us/step - loss: 0.6460 - acc: 0.6011 - val_loss: 0.6896 - val_acc: 0.5472\n",
      "Epoch 8/50\n",
      "20507/20507 [==============================] - 18s 861us/step - loss: 0.6374 - acc: 0.6129 - val_loss: 0.6951 - val_acc: 0.5397\n",
      "Epoch 9/50\n",
      "20507/20507 [==============================] - 18s 856us/step - loss: 0.6305 - acc: 0.6173 - val_loss: 0.6984 - val_acc: 0.5314\n",
      "Epoch 10/50\n",
      "20507/20507 [==============================] - 18s 854us/step - loss: 0.6250 - acc: 0.6235 - val_loss: 0.6973 - val_acc: 0.5428\n",
      "Epoch 11/50\n",
      "20507/20507 [==============================] - 18s 866us/step - loss: 0.6236 - acc: 0.6214 - val_loss: 0.6953 - val_acc: 0.5511\n",
      "Epoch 12/50\n",
      "20507/20507 [==============================] - 18s 887us/step - loss: 0.6183 - acc: 0.6238 - val_loss: 0.6928 - val_acc: 0.5502\n",
      "Epoch 13/50\n",
      "20507/20507 [==============================] - 18s 874us/step - loss: 0.6124 - acc: 0.6346 - val_loss: 0.6946 - val_acc: 0.5485\n",
      "Epoch 14/50\n",
      "20507/20507 [==============================] - 18s 875us/step - loss: 0.6111 - acc: 0.6373 - val_loss: 0.6975 - val_acc: 0.5445\n",
      "Epoch 15/50\n",
      "20507/20507 [==============================] - 18s 874us/step - loss: 0.6074 - acc: 0.6387 - val_loss: 0.6985 - val_acc: 0.5507\n",
      "Epoch 16/50\n",
      "20507/20507 [==============================] - 18s 881us/step - loss: 0.6044 - acc: 0.6391 - val_loss: 0.6993 - val_acc: 0.5375\n",
      "Epoch 17/50\n",
      "20507/20507 [==============================] - 18s 895us/step - loss: 0.5971 - acc: 0.6461 - val_loss: 0.7000 - val_acc: 0.5485\n",
      "Epoch 18/50\n",
      "20507/20507 [==============================] - 18s 879us/step - loss: 0.5916 - acc: 0.6517 - val_loss: 0.7002 - val_acc: 0.5520\n",
      "Epoch 19/50\n",
      "20507/20507 [==============================] - 18s 881us/step - loss: 0.5898 - acc: 0.6533 - val_loss: 0.6989 - val_acc: 0.5516\n",
      "Epoch 20/50\n",
      "20507/20507 [==============================] - 14s 697us/step - loss: 0.5850 - acc: 0.6572 - val_loss: 0.7048 - val_acc: 0.5507\n",
      "Epoch 21/50\n",
      "20507/20507 [==============================] - 12s 568us/step - loss: 0.5815 - acc: 0.6598 - val_loss: 0.7059 - val_acc: 0.5472\n",
      "Epoch 22/50\n",
      "20507/20507 [==============================] - 12s 562us/step - loss: 0.5818 - acc: 0.6570 - val_loss: 0.7091 - val_acc: 0.5573\n",
      "Epoch 23/50\n",
      "20507/20507 [==============================] - 12s 579us/step - loss: 0.5815 - acc: 0.6598 - val_loss: 0.7032 - val_acc: 0.5546\n",
      "Epoch 24/50\n",
      "20507/20507 [==============================] - 12s 592us/step - loss: 0.5800 - acc: 0.6604 - val_loss: 0.7048 - val_acc: 0.5511\n",
      "Epoch 25/50\n",
      "20507/20507 [==============================] - 12s 585us/step - loss: 0.5756 - acc: 0.6657 - val_loss: 0.7033 - val_acc: 0.5538\n",
      "Epoch 26/50\n",
      "20507/20507 [==============================] - 12s 561us/step - loss: 0.5750 - acc: 0.6655 - val_loss: 0.7093 - val_acc: 0.5498\n",
      "Epoch 27/50\n",
      "20507/20507 [==============================] - 12s 561us/step - loss: 0.5716 - acc: 0.6675 - val_loss: 0.7072 - val_acc: 0.5573\n",
      "Epoch 28/50\n",
      "20507/20507 [==============================] - 12s 604us/step - loss: 0.5686 - acc: 0.6674 - val_loss: 0.7089 - val_acc: 0.5538\n",
      "Epoch 29/50\n",
      "20507/20507 [==============================] - 11s 523us/step - loss: 0.5676 - acc: 0.6734 - val_loss: 0.7157 - val_acc: 0.5568\n",
      "Epoch 30/50\n",
      "20507/20507 [==============================] - 11s 560us/step - loss: 0.5626 - acc: 0.6751 - val_loss: 0.7148 - val_acc: 0.5507\n",
      "Epoch 31/50\n",
      "20507/20507 [==============================] - 11s 536us/step - loss: 0.5578 - acc: 0.6742 - val_loss: 0.7173 - val_acc: 0.5524\n",
      "Epoch 32/50\n",
      "20507/20507 [==============================] - 12s 562us/step - loss: 0.5637 - acc: 0.6780 - val_loss: 0.7171 - val_acc: 0.5498\n",
      "Epoch 33/50\n",
      "20507/20507 [==============================] - 12s 564us/step - loss: 0.5588 - acc: 0.6730 - val_loss: 0.7196 - val_acc: 0.5520\n",
      "Epoch 34/50\n",
      "20507/20507 [==============================] - 11s 538us/step - loss: 0.5534 - acc: 0.6796 - val_loss: 0.7243 - val_acc: 0.5476\n",
      "Epoch 35/50\n",
      "20507/20507 [==============================] - 11s 516us/step - loss: 0.5561 - acc: 0.6770 - val_loss: 0.7208 - val_acc: 0.5415\n",
      "Epoch 36/50\n",
      "20507/20507 [==============================] - 11s 530us/step - loss: 0.5557 - acc: 0.6796 - val_loss: 0.7266 - val_acc: 0.5388\n",
      "Epoch 37/50\n",
      "20507/20507 [==============================] - 12s 571us/step - loss: 0.5529 - acc: 0.6816 - val_loss: 0.7249 - val_acc: 0.5485\n",
      "Epoch 38/50\n",
      "20507/20507 [==============================] - 12s 579us/step - loss: 0.5553 - acc: 0.6765 - val_loss: 0.7213 - val_acc: 0.5454\n",
      "Epoch 39/50\n",
      "20507/20507 [==============================] - 11s 525us/step - loss: 0.5495 - acc: 0.6834 - val_loss: 0.7228 - val_acc: 0.5494\n",
      "Epoch 40/50\n",
      "20507/20507 [==============================] - 11s 551us/step - loss: 0.5520 - acc: 0.6823 - val_loss: 0.7183 - val_acc: 0.5555\n",
      "Epoch 41/50\n",
      "20507/20507 [==============================] - 11s 554us/step - loss: 0.5462 - acc: 0.6867 - val_loss: 0.7310 - val_acc: 0.5485\n",
      "Epoch 42/50\n",
      "20507/20507 [==============================] - 11s 546us/step - loss: 0.5501 - acc: 0.6814 - val_loss: 0.7232 - val_acc: 0.5511\n",
      "Epoch 43/50\n",
      "20507/20507 [==============================] - 11s 519us/step - loss: 0.5461 - acc: 0.6856 - val_loss: 0.7232 - val_acc: 0.5630\n",
      "Epoch 44/50\n",
      "20507/20507 [==============================] - 11s 541us/step - loss: 0.5446 - acc: 0.6833 - val_loss: 0.7290 - val_acc: 0.5507\n",
      "Epoch 45/50\n",
      "20507/20507 [==============================] - 11s 530us/step - loss: 0.5473 - acc: 0.6788 - val_loss: 0.7305 - val_acc: 0.5516\n",
      "Epoch 46/50\n",
      "20507/20507 [==============================] - 11s 525us/step - loss: 0.5410 - acc: 0.6881 - val_loss: 0.7344 - val_acc: 0.5511\n",
      "Epoch 47/50\n",
      "20507/20507 [==============================] - 11s 556us/step - loss: 0.5475 - acc: 0.6807 - val_loss: 0.7302 - val_acc: 0.5445\n",
      "Epoch 48/50\n",
      "20507/20507 [==============================] - 11s 518us/step - loss: 0.5404 - acc: 0.6888 - val_loss: 0.7363 - val_acc: 0.5520\n",
      "Epoch 49/50\n",
      "20507/20507 [==============================] - 11s 531us/step - loss: 0.5365 - acc: 0.6926 - val_loss: 0.7360 - val_acc: 0.5419\n",
      "Epoch 50/50\n",
      "20507/20507 [==============================] - 12s 562us/step - loss: 0.5374 - acc: 0.6870 - val_loss: 0.7408 - val_acc: 0.5538\n"
     ]
    }
   ],
   "source": [
    "history = model2.fit(X_train, y_train, epochs=50, batch_size=512, validation_split=0.1) #fit the model"
   ]
  },
  {
   "cell_type": "code",
   "execution_count": 32,
   "metadata": {},
   "outputs": [],
   "source": [
    "score = model2.evaluate(X_test, y_test, verbose=0) #generate scores"
   ]
  },
  {
   "cell_type": "code",
   "execution_count": 33,
   "metadata": {},
   "outputs": [
    {
     "name": "stdout",
     "output_type": "stream",
     "text": [
      "Test loss: 0.7653866355536757\n",
      "Test accuracy: 0.5450236966824644\n"
     ]
    }
   ],
   "source": [
    "#print scores\n",
    "print('Test loss:', score[0])\n",
    "print('Test accuracy:', score[1])"
   ]
  },
  {
   "cell_type": "markdown",
   "metadata": {},
   "source": [
    "55% is not really a great score for binary classification, but at least we tried! Our GloVe model did not perform as well as our previous model, but I suspect it has something to do with the fact that we did not include an LSTM layer or use K-Fold cross evaluation for the sake of time."
   ]
  },
  {
   "cell_type": "markdown",
   "metadata": {},
   "source": [
    "<a id='conclusion'></a>"
   ]
  },
  {
   "cell_type": "markdown",
   "metadata": {},
   "source": [
    "# 5. Conclusion"
   ]
  },
  {
   "cell_type": "markdown",
   "metadata": {},
   "source": [
    "The biggest takeaway that I gathered from our models performance scores is that we need more data to accurately build a model that can determine whether or not a sitcom will fail or succeed based on a line of script from that sitcom's pilot. However, we still did learn a lot about sitcom pilot data in the process. There are many nuanced parts of a script that successful shows seem to have in common, as we did sense some level of diffence between the text data of each class. Some of these differences were hard to define or put a name to, such as how it appeared from EDA that the successful shows seemed to be more formal in their language and also put more focus on family situations rather than other social dynamics, such as those that appear at parties or in the office. \n",
    "\n",
    "In terms of performance, in this notebook we saw the accuracy scores on the training data get pretty high, up into the 80's. However, the best performing model overall on training data was actually a tie between two classifiers, Decision Tree and Random Forest, both on TF-IDF data and both with accuracy scores of 94%. For our test data, we had mostly lack-luster results, with the exception of our crowning jewel, which was model1 (the Keras LSTM model that we generated using our own word embeddings) when it was validated using K-Folds cross evaluation, which performed with an average accuracy score of 80% on the validation set. As we know, the remainder of the test scores were more of a letdown, with our second highest performing models being a tie between the Keras LSTM model1 (without using K-folds cross-evaluation) and Multinomial Naive Bayes on our TF-IDF data, both earning about 62% accuracy, which is not much better than the naive guessing rate. "
   ]
  },
  {
   "cell_type": "markdown",
   "metadata": {},
   "source": [
    "<a id='future'></a>"
   ]
  },
  {
   "cell_type": "markdown",
   "metadata": {},
   "source": [
    "### 5.1. Future Work"
   ]
  },
  {
   "cell_type": "markdown",
   "metadata": {},
   "source": [
    "In the future, I definitely think that it would be worth it to explore this project/concept again with more data. With more time, money, and resources, it would be possible to gather pilot scripts for television shows that I was unable to find on \"Springfield, Springfield\" (despite my emails to them requesting such :) ). This would also help to create a balanced dataset, as it was difficult to find scripts for pilots of failed sitcoms that aired more than 10 years ago.\n",
    "\n",
    "It would also be interesting to open up this project's criteria and include a broader range of television shows, perhaps including shows that aired prior to 1989 or shows that were made by HBO or Netflix. In general, I think there is a lot of data hidden in television show scripts that would generate valuable insight about what type of content America enjoys consuming the most.\n",
    "\n",
    "On a more technical note, there is still a lot of more work that I could do with the data at hand. For instance, parameter tuning on both the classifiers and the deep learning models could improve the test scores. I can also think of more features that would be intriguing, such as a column for locations or proper nouns in general. After adding more self-made features, it would also be worth it to try out PCA. Additionally, there are a lot of other ways to vectorize or prepare text data for modeling that could also be interesting to explore. Even in terms of EDA, there are still multiple columns that I did not fully explore, such as the actors column or most of the viewer data. "
   ]
  }
 ],
 "metadata": {
  "kernelspec": {
   "display_name": "learn-env",
   "language": "python",
   "name": "learn-env"
  },
  "language_info": {
   "codemirror_mode": {
    "name": "ipython",
    "version": 3
   },
   "file_extension": ".py",
   "mimetype": "text/x-python",
   "name": "python",
   "nbconvert_exporter": "python",
   "pygments_lexer": "ipython3",
   "version": "3.6.5"
  }
 },
 "nbformat": 4,
 "nbformat_minor": 2
}
